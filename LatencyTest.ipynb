{
 "nbformat": 4,
 "nbformat_minor": 2,
 "metadata": {
  "language_info": {
   "name": "python",
   "codemirror_mode": {
    "name": "ipython",
    "version": 3
   },
   "version": "3.8.1-final"
  },
  "orig_nbformat": 2,
  "file_extension": ".py",
  "mimetype": "text/x-python",
  "name": "python",
  "npconvert_exporter": "python",
  "pygments_lexer": "ipython3",
  "version": 3,
  "kernelspec": {
   "name": "python38164bitnotebookcondaa6b976a203674f48ae1ebd8e1da40adb",
   "display_name": "Python 3.8.1 64-bit ('notebook': conda)"
  }
 },
 "cells": [
  {
   "cell_type": "code",
   "execution_count": 8,
   "metadata": {},
   "outputs": [],
   "source": [
    "import ssl\n",
    "import xmlrpc\n",
    "import xmlrpc.client\n",
    "import base64\n",
    "import datetime\n",
    "\n",
    "import requests\n",
    "import urllib3\n",
    "import json\n",
    "\n",
    "import requests\n",
    "import pandas as pd\n",
    "\n",
    "import random\n",
    "import string"
   ]
  },
  {
   "cell_type": "code",
   "execution_count": 9,
   "metadata": {},
   "outputs": [],
   "source": [
    "### POST FUNCTIONS\n",
    "def post_to_udl_json_data(udl_endpoint, username, unecrypted_password, json_data):\n",
    "  #\n",
    "  # perform udl interaction\n",
    "  #\n",
    "      key = username + \":\" + unecrypted_password\n",
    "      authkey = base64.b64encode(key.encode('utf-8')).decode(\"ascii\")\n",
    "      #creds = \"Basic Y2hyaXN0aWFuLmtlbXBpczo5OTkwMCFDSUshY2lrISEh\"\n",
    "  \n",
    "      udl_headers = {'accept': 'application/json',\n",
    "                    'content-type': 'application/json',\n",
    "                    #'Authorization': creds}\n",
    "                    'Authorization': 'Basic {auth}'.format(auth=authkey)}\n",
    "      print(\"Invoking {url} endpoint\".format(url=udl_endpoint))\n",
    "      print(\"calling with {data}\".format(data=json_data))\n",
    "  \n",
    "      response = requests.post(udl_endpoint, \n",
    "                               data=json.dumps(json_data),\n",
    "                               verify=False,\n",
    "                               headers=udl_headers)\n",
    "      response.raise_for_status()\n",
    "      if response.ok:\n",
    "          print(\"Completed data access at {url}\".format(url=udl_endpoint))\n",
    "      return response\n",
    "\n",
    "def post_state_vector(udl_ep, udl_user, udl_pw, sync_pattern, time_stamp):\n",
    "    try:\n",
    "        state_vector_data = {\n",
    "            \"classificationMarking\": \"U\",\n",
    "            \"msgType\" : \"LatencyTest\",\n",
    "            \"source\" : \"MITRE\",\n",
    "            \"msgBody\" : {   \"timeStamp\" : time_stamp, \n",
    "                            \"message\" : \"System latency test\", \n",
    "                            \"syncPattern\" : sync_pattern\n",
    "                        },\n",
    "            \"dataMode\": \"TEST\"\n",
    "        }\n",
    "\n",
    "        print('Start executing UDL update for ' + udl_user)\n",
    "        res = post_to_udl_json_data(udl_ep, udl_user, udl_pw, state_vector_data)\n",
    "        print(res)\n",
    "        print('Finished executing UDL update...')\n",
    "    except xmlrpc.client.ProtocolError as err:\n",
    "        print(\"A protocol error occurred\")\n",
    "        print(\"URL: %s\" % err.url)\n",
    "        print(\"HTTP/HTTPS headers: %s\" % err.headers)\n",
    "        print(\"Error code: %d\" % err.errcode)\n",
    "        print(\"Error message: %s\" % err.errmsg)"
   ]
  },
  {
   "cell_type": "code",
   "execution_count": 10,
   "metadata": {},
   "outputs": [],
   "source": [
    "### QUERY FUNCTIONS\n",
    "\n",
    "# Returns a single data frame with the matching sync pattern or -1 if non were found\n",
    "def ScanDataFrameForOnSyncPattern(data_frame, sync_pattern):\n",
    "    dfDecrementer = data_frame.shape[0] - 1    # Get amount of rows in the dataframe\n",
    "    stopSearch = False\n",
    "    returnValue = -1\n",
    "\n",
    "    while stopSearch == False:\n",
    "        dataRow = data_frame.loc[dfDecrementer]\n",
    "\n",
    "        if 'syncPattern' in dataRow['msgBody']:\n",
    "            compString = dataRow['msgBody']['syncPattern']\n",
    "\n",
    "            if(compString == sync_pattern):\n",
    "                print(f\"Test Message Found for: {sync_pattern}\");\n",
    "                returnValue = dataRow\n",
    "                stopSearch = True;\n",
    "\n",
    "        dfDecrementer -= 1\n",
    "\n",
    "        if(dfDecrementer < 0):\n",
    "            print(f\"Did not find message for : {sync_pattern}\")\n",
    "            stopSearch = True\n",
    "            break\n",
    "    \n",
    "    return returnValue\n",
    "\n",
    "# Returns time difference between the local timep stmap and retrieved data frame\n",
    "def GetServerCreationLatency(time_stamp, single_data_frame):\n",
    "    serverTime = datetime.datetime.strptime(single_data_frame['createdAt'],\"%Y-%m-%dT%H:%M:%S.%fZ\")\n",
    "    givenTime = datetime.datetime.strptime(time_stamp,\"%Y-%m-%dT%H:%M:%S.%fZ\")\n",
    "    \n",
    "    timeDifference = serverTime - givenTime\n",
    "\n",
    "    print(f\"Local Time: {givenTime}, Server Created Time: {serverTime}\")\n",
    "    print(f\"Total Time Difference: {timeDifference}\")\n",
    "\n",
    "    return timeDifference"
   ]
  },
  {
   "cell_type": "code",
   "execution_count": 19,
   "metadata": {},
   "outputs": [],
   "source": [
    "# Load All credentials\n",
    "credsData = 0\n",
    "with open('creds.json') as creds:\n",
    "    credsData = json.load(creds)\n",
    "\n",
    "user = credsData['user']\n",
    "password = credsData['password']\n",
    "\n",
    "service_endpoint_test = credsData['service_endpoint_test']\n",
    "service_endpoint_production = credsData['service_endpoint_production']\n",
    "\n",
    "url = credsData['url']\n",
    "creds = credsData['creds']"
   ]
  },
  {
   "cell_type": "code",
   "execution_count": 12,
   "metadata": {},
   "outputs": [
    {
     "name": "stdout",
     "output_type": "stream",
     "text": "Start executing UDL update for christian.kempis\nInvoking https://pep.bluestaq.com/udl/notification/ endpoint\ncalling with {'classificationMarking': 'U', 'msgType': 'LatencyTest', 'source': 'MITRE', 'msgBody': {'timeStamp': '2020-04-01T01:23:41.833Z', 'message': 'System latency test', 'syncPattern': 'pxNHRrZtw49VlUR3'}, 'dataMode': 'TEST'}\nCompleted data access at https://pep.bluestaq.com/udl/notification/\n<Response [201]>\nFinished executing UDL update...\n"
    }
   ],
   "source": [
    "# POST TO SERVER\n",
    "syncPattern = ''.join(random.choices(string.ascii_letters + string.digits, k=16))\n",
    "timeStamp = datetime.datetime.utcnow().strftime(\"%Y-%m-%dT%H:%M:%S.%f\")[:-3]\n",
    "timeStamp = timeStamp + 'Z'\n",
    "\n",
    "post_state_vector(service_endpoint_test, user, password, syncPattern, timeStamp)"
   ]
  },
  {
   "cell_type": "code",
   "execution_count": 20,
   "metadata": {},
   "outputs": [
    {
     "name": "stdout",
     "output_type": "stream",
     "text": "Test Message Found for: pxNHRrZtw49VlUR3\n"
    }
   ],
   "source": [
    "### BEGIN QUERY FROM DATABASE\n",
    "result = requests.get(url, headers={'Authorization':creds}, verify=False)\n",
    "elsetsDataFrame = pd.DataFrame(result.json())\n",
    "\n",
    "singleDataFrame = ScanDataFrameForOnSyncPattern(elsetsDataFrame, syncPattern)\n"
   ]
  },
  {
   "cell_type": "code",
   "execution_count": 21,
   "metadata": {},
   "outputs": [
    {
     "name": "stdout",
     "output_type": "stream",
     "text": "Test Message Found for: pxNHRrZtw49VlUR3\nLocal Time: 2020-04-01 01:23:41.833000, Server Created Time: 2020-04-01 01:23:42.363000\nTotal Time Difference: 0:00:00.530000\n"
    }
   ],
   "source": [
    "singleDataFrame = ScanDataFrameForOnSyncPattern(elsetsDataFrame, syncPattern)\n",
    "timeDifference = GetServerCreationLatency(timeStamp, singleDataFrame)"
   ]
  },
  {
   "cell_type": "code",
   "execution_count": null,
   "metadata": {},
   "outputs": [],
   "source": []
  }
 ]
}